{
  "nbformat": 4,
  "nbformat_minor": 0,
  "metadata": {
    "colab": {
      "name": "Interview_TASK.ipynb",
      "provenance": [],
      "collapsed_sections": [],
      "mount_file_id": "1B1g6u1RADyfAckkk1tJZhjBPlAEWbqSx",
      "authorship_tag": "ABX9TyML0wxDORDxFEJHJO8jQeBw",
      "include_colab_link": true
    },
    "kernelspec": {
      "name": "python3",
      "display_name": "Python 3"
    }
  },
  "cells": [
    {
      "cell_type": "markdown",
      "metadata": {
        "id": "view-in-github",
        "colab_type": "text"
      },
      "source": [
        "<a href=\"https://colab.research.google.com/github/farazmew/Interview_TASK/blob/farazmew-patch-1/Interview_TASK.ipynb\" target=\"_parent\"><img src=\"https://colab.research.google.com/assets/colab-badge.svg\" alt=\"Open In Colab\"/></a>"
      ]
    },
    {
      "cell_type": "code",
      "metadata": {
        "id": "baaxJWcYr5oE"
      },
      "source": [
        "import pandas as pd\n",
        "df1 = pd.read_csv(\"/content/drive/MyDrive/Task_Data/task data/cm02NOV2020bhav.csv\")\n",
        "df2 = pd.read_csv(\"/content/drive/MyDrive/Task_Data/task data/cm03NOV2020bhav.csv\")\n",
        "df3 = pd.read_csv(\"/content/drive/MyDrive/Task_Data/task data/cm04NOV2020bhav.csv\")\n",
        "df4 = pd.read_csv(\"/content/drive/MyDrive/Task_Data/task data/cm05NOV2020bhav.csv\")\n",
        "df5 = pd.read_csv(\"/content/drive/MyDrive/Task_Data/task data/cm06NOV2020bhav.csv\")\n",
        "df6 =pd.read_csv(\"/content/drive/MyDrive/Task_Data/task data/cm09NOV2020bhav.csv\")\n",
        "df7 = pd.read_csv(\"/content/drive/MyDrive/Task_Data/task data/cm10NOV2020bhav.csv\")\n",
        "df8 = pd.read_csv(\"/content/drive/MyDrive/Task_Data/task data/cm11NOV2020bhav.csv\")\n",
        "df9 = pd.read_csv(\"/content/drive/MyDrive/Task_Data/task data/cm12NOV2020bhav.csv\")\n",
        "df10 = pd.read_csv(\"/content/drive/MyDrive/Task_Data/task data/cm13NOV2020bhav.csv\")\n",
        "df11 = pd.read_csv(\"/content/drive/MyDrive/Task_Data/task data/cm14NOV2020bhav.csv\")\n",
        "df12 = pd.read_csv(\"/content/drive/MyDrive/Task_Data/task data/cm17NOV2020bhav.csv\")\n",
        "df13 = pd.read_csv(\"/content/drive/MyDrive/Task_Data/task data/cm18NOV2020bhav.csv\")\n",
        "df14 = pd.read_csv(\"/content/drive/MyDrive/Task_Data/task data/cm19NOV2020bhav.csv\")\n",
        "df15 = pd.read_csv(\"/content/drive/MyDrive/Task_Data/task data/cm20NOV2020bhav.csv\")\n",
        "df16 = pd.read_csv(\"/content/drive/MyDrive/Task_Data/task data/cm23NOV2020bhav.csv\")\n",
        "df17 = pd.read_csv(\"/content/drive/MyDrive/Task_Data/task data/cm24NOV2020bhav.csv\")\n",
        "df18 = pd.read_csv(\"/content/drive/MyDrive/Task_Data/task data/cm25NOV2020bhav.csv\")\n",
        "df19 = pd.read_csv(\"/content/drive/MyDrive/Task_Data/task data/cm26NOV2020bhav.csv\")\n",
        "df20 = pd.read_csv(\"/content/drive/MyDrive/Task_Data/task data/cm27NOV2020bhav.csv\")\n",
        "df21 = pd.read_csv(\"/content/drive/MyDrive/Task_Data/task data/cm01DEC2020bhav.csv\")\n",
        "df22 = pd.read_csv(\"/content/drive/MyDrive/Task_Data/task data/cm02DEC2020bhav.csv\")\n",
        "df23 = pd.read_csv(\"/content/drive/MyDrive/Task_Data/task data/cm03DEC2020bhav.csv\")\n",
        "df24 = pd.read_csv(\"/content/drive/MyDrive/Task_Data/task data/cm04DEC2020bhav.csv\")\n",
        "df25 = pd.read_csv(\"/content/drive/MyDrive/Task_Data/task data/cm07DEC2020bhav.csv\")\n",
        "df26 = pd.read_csv(\"/content/drive/MyDrive/Task_Data/task data/cm08DEC2020bhav.csv\")\n",
        "df27 = pd.read_csv(\"/content/drive/MyDrive/Task_Data/task data/cm09DEC2020bhav.csv\")\n",
        "df28 = pd.read_csv(\"/content/drive/MyDrive/Task_Data/task data/cm10DEC2020bhav.csv\")\n",
        "df29 = pd.read_csv(\"/content/drive/MyDrive/Task_Data/task data/cm11DEC2020bhav.csv\")\n",
        "df30 = pd.read_csv(\"/content/drive/MyDrive/Task_Data/task data/cm14DEC2020bhav.csv\")\n",
        "df31 = pd.read_csv(\"/content/drive/MyDrive/Task_Data/task data/cm15DEC2020bhav.csv\")\n",
        "df32 = pd.read_csv(\"/content/drive/MyDrive/Task_Data/task data/cm16DEC2020bhav.csv\")\n",
        "df33 = pd.read_csv(\"/content/drive/MyDrive/Task_Data/task data/cm17DEC2020bhav.csv\")\n",
        "df34 = pd.read_csv(\"/content/drive/MyDrive/Task_Data/task data/cm18DEC2020bhav.csv\")\n",
        "df35 = pd.read_csv(\"/content/drive/MyDrive/Task_Data/task data/cm21DEC2020bhav.csv\")\n",
        "df36 = pd.read_csv(\"/content/drive/MyDrive/Task_Data/task data/cm22DEC2020bhav.csv\")\n",
        "df37 = pd.read_csv(\"/content/drive/MyDrive/Task_Data/task data/cm23DEC2020bhav.csv\")\n",
        "df38 = pd.read_csv(\"/content/drive/MyDrive/Task_Data/task data/cm24DEC2020bhav.csv\")\n",
        "df39 = pd.read_csv(\"/content/drive/MyDrive/Task_Data/task data/cm28DEC2020bhav.csv\")\n",
        "df40 = pd.read_csv(\"/content/drive/MyDrive/Task_Data/task data/cm29DEC2020bhav.csv\")\n",
        "df41 = pd.read_csv(\"/content/drive/MyDrive/Task_Data/task data/cm30DEC2020bhav.csv\")\n",
        "df42 = pd.read_csv(\"/content/drive/MyDrive/Task_Data/task data/cm31DEC2020bhav.csv\")"
      ],
      "execution_count": 1,
      "outputs": []
    },
    {
      "cell_type": "code",
      "metadata": {
        "id": "XUwZSMAkwxHd"
      },
      "source": [
        "# list of date dataframe\n",
        "days =  [df1,df2,df3,df4,df5,df6,df7,df8,df9,df10,df11,df12,df13,df14,df15,df16,df17,df18,df19,df20,df21,df22,df23,df24,df25,df26,df27,df28,df29,df30,df31,df32,df33,df34,df35,df36,df37,df38,df39,df40,df41,df42]"
      ],
      "execution_count": 2,
      "outputs": []
    },
    {
      "cell_type": "code",
      "metadata": {
        "id": "sUwlqiLV0_sx"
      },
      "source": [
        "# Mergeing of all dataframe in one dataframe\n",
        "data = pd.concat(days)"
      ],
      "execution_count": 3,
      "outputs": []
    },
    {
      "cell_type": "code",
      "metadata": {
        "colab": {
          "base_uri": "https://localhost:8080/"
        },
        "id": "FtguHD6d1GVG",
        "outputId": "4c504242-9724-4dac-ae33-ede0df251bbb"
      },
      "source": [
        "data.shape"
      ],
      "execution_count": 4,
      "outputs": [
        {
          "output_type": "execute_result",
          "data": {
            "text/plain": [
              "(84740, 14)"
            ]
          },
          "metadata": {
            "tags": []
          },
          "execution_count": 4
        }
      ]
    },
    {
      "cell_type": "code",
      "metadata": {
        "id": "Z2u356pG1XrC"
      },
      "source": [
        "stocks = pd.read_csv(\"/content/drive/MyDrive/Task_Data/ind_nifty100list.csv\")"
      ],
      "execution_count": 5,
      "outputs": []
    },
    {
      "cell_type": "code",
      "metadata": {
        "colab": {
          "base_uri": "https://localhost:8080/"
        },
        "id": "wfCjJfWv1gKm",
        "outputId": "09259cee-8bd0-433e-e1b7-51366597191a"
      },
      "source": [
        "stocks.shape"
      ],
      "execution_count": 6,
      "outputs": [
        {
          "output_type": "execute_result",
          "data": {
            "text/plain": [
              "(100, 5)"
            ]
          },
          "metadata": {
            "tags": []
          },
          "execution_count": 6
        }
      ]
    },
    {
      "cell_type": "code",
      "metadata": {
        "colab": {
          "base_uri": "https://localhost:8080/"
        },
        "id": "iPWN7brm1jmo",
        "outputId": "29fa39b0-fdcf-4776-d65d-e46e2e39b9f6"
      },
      "source": [
        "len(data['SYMBOL'].unique())"
      ],
      "execution_count": 7,
      "outputs": [
        {
          "output_type": "execute_result",
          "data": {
            "text/plain": [
              "2053"
            ]
          },
          "metadata": {
            "tags": []
          },
          "execution_count": 7
        }
      ]
    },
    {
      "cell_type": "code",
      "metadata": {
        "id": "axwyCYUp11dl"
      },
      "source": [
        "symbol = stocks['Symbol']"
      ],
      "execution_count": 8,
      "outputs": []
    },
    {
      "cell_type": "code",
      "metadata": {
        "colab": {
          "base_uri": "https://localhost:8080/"
        },
        "id": "JdCBAN5A1-x8",
        "outputId": "c4ef8108-efbf-4faf-c2fb-5bea36ec1415"
      },
      "source": [
        "len(symbol)"
      ],
      "execution_count": 9,
      "outputs": [
        {
          "output_type": "execute_result",
          "data": {
            "text/plain": [
              "100"
            ]
          },
          "metadata": {
            "tags": []
          },
          "execution_count": 9
        }
      ]
    },
    {
      "cell_type": "code",
      "metadata": {
        "id": "MJ1Qdtm-Gmab"
      },
      "source": [
        "# Filter dataframe according to top 100 stocks companies data\n",
        "stocks_data =data[data.SYMBOL.isin(symbol)]"
      ],
      "execution_count": 10,
      "outputs": []
    },
    {
      "cell_type": "code",
      "metadata": {
        "colab": {
          "base_uri": "https://localhost:8080/"
        },
        "id": "0BqANb-V2QrZ",
        "outputId": "107bbc81-2acd-411f-f598-f325476ed6d1"
      },
      "source": [
        "stocks_data.shape"
      ],
      "execution_count": 11,
      "outputs": [
        {
          "output_type": "execute_result",
          "data": {
            "text/plain": [
              "(4675, 14)"
            ]
          },
          "metadata": {
            "tags": []
          },
          "execution_count": 11
        }
      ]
    },
    {
      "cell_type": "code",
      "metadata": {
        "id": "1hwB3hrWa1ha"
      },
      "source": [
        "stocks = stocks.rename(str.upper, axis='columns')"
      ],
      "execution_count": 12,
      "outputs": []
    },
    {
      "cell_type": "code",
      "metadata": {
        "id": "8x_0tPyDa1Ry"
      },
      "source": [
        "# Merging both the Dataframe\n",
        "Stock_Data = pd.merge(stocks_data, stocks, on='SYMBOL')"
      ],
      "execution_count": 13,
      "outputs": []
    },
    {
      "cell_type": "code",
      "metadata": {
        "id": "0TbQtx22BeY2"
      },
      "source": [
        "# stocks_data_1 = stocks_data[['SYMBOL','CLOSE','TIMESTAMP']]"
      ],
      "execution_count": 14,
      "outputs": []
    },
    {
      "cell_type": "code",
      "metadata": {
        "id": "0pMvucmjCq8C"
      },
      "source": [
        "# Selecting imporatant feature as per the requirement\n",
        "Stock_Data = Stock_Data.pivot_table('CLOSE', index='TIMESTAMP', columns='COMPANY NAME')"
      ],
      "execution_count": 15,
      "outputs": []
    },
    {
      "cell_type": "code",
      "metadata": {
        "id": "sifgrNDrzLYr"
      },
      "source": [
        "# Correlation\n",
        "corr = Stock_Data.corr()\n",
        "Stock_corr = corr.abs().unstack()\n",
        "Stock_corr = Stock_corr.sort_values(ascending = False)"
      ],
      "execution_count": 16,
      "outputs": []
    },
    {
      "cell_type": "code",
      "metadata": {
        "colab": {
          "base_uri": "https://localhost:8080/"
        },
        "id": "_CSAq8Qtb1VR",
        "outputId": "49c9b179-bc6e-4114-85cb-a95fc14bbf42"
      },
      "source": [
        "Stock_corr"
      ],
      "execution_count": 17,
      "outputs": [
        {
          "output_type": "execute_result",
          "data": {
            "text/plain": [
              "COMPANY NAME                             COMPANY NAME                           \n",
              "Wipro Ltd.                               Wipro Ltd.                                 1.000000\n",
              "Oracle Financial Services Software Ltd.  Oracle Financial Services Software Ltd.    1.000000\n",
              "Nestle India Ltd.                        Nestle India Ltd.                          1.000000\n",
              "NTPC Ltd.                                NTPC Ltd.                                  1.000000\n",
              "NMDC Ltd.                                NMDC Ltd.                                  1.000000\n",
              "                                                                                      ...   \n",
              "ACC Ltd.                                 HDFC Bank Ltd.                             0.000763\n",
              "Colgate Palmolive (India) Ltd.           Indus Towers Ltd.                          0.000684\n",
              "Indus Towers Ltd.                        Colgate Palmolive (India) Ltd.             0.000684\n",
              "Power Grid Corporation of India Ltd.     NTPC Ltd.                                  0.000362\n",
              "NTPC Ltd.                                Power Grid Corporation of India Ltd.       0.000362\n",
              "Length: 10000, dtype: float64"
            ]
          },
          "metadata": {
            "tags": []
          },
          "execution_count": 17
        }
      ]
    },
    {
      "cell_type": "code",
      "metadata": {
        "colab": {
          "base_uri": "https://localhost:8080/"
        },
        "id": "_ta34QwtXHN_",
        "outputId": "7a5bf509-d407-4804-b381-05d626f5769c"
      },
      "source": [
        "# Five Lowest correlated Companies\n",
        "lowest_corr = Stock_corr[-1:-10:-2]\n",
        "lowest_corr"
      ],
      "execution_count": 18,
      "outputs": [
        {
          "output_type": "execute_result",
          "data": {
            "text/plain": [
              "COMPANY NAME                    COMPANY NAME                        \n",
              "NTPC Ltd.                       Power Grid Corporation of India Ltd.    0.000362\n",
              "Indus Towers Ltd.               Colgate Palmolive (India) Ltd.          0.000684\n",
              "ACC Ltd.                        HDFC Bank Ltd.                          0.000763\n",
              "Dr. Reddy's Laboratories Ltd.   Adani Green Energy Ltd.                 0.001497\n",
              "Power Finance Corporation Ltd.  Asian Paints Ltd.                       0.001892\n",
              "dtype: float64"
            ]
          },
          "metadata": {
            "tags": []
          },
          "execution_count": 18
        }
      ]
    },
    {
      "cell_type": "code",
      "metadata": {
        "colab": {
          "base_uri": "https://localhost:8080/"
        },
        "id": "6NlPYEy1XLVI",
        "outputId": "e75d0f5d-e1bb-4845-e6df-8211b906113e"
      },
      "source": [
        "# Five Highest correlated companies\n",
        "highest_corr = Stock_corr[100:110:2]\n",
        "highest_corr"
      ],
      "execution_count": 19,
      "outputs": [
        {
          "output_type": "execute_result",
          "data": {
            "text/plain": [
              "COMPANY NAME                                COMPANY NAME                    \n",
              "Bajaj Finserv Ltd.                          Bajaj Holdings & Investment Ltd.    0.984277\n",
              "Adani Transmission Ltd.                     Tata Steel Ltd.                     0.977853\n",
              "Oil & Natural Gas Corporation Ltd.          GAIL (India) Ltd.                   0.976424\n",
              "Tata Steel Ltd.                             Motherson Sumi Systems Ltd.         0.975368\n",
              "Adani Ports and Special Economic Zone Ltd.  GAIL (India) Ltd.                   0.972976\n",
              "dtype: float64"
            ]
          },
          "metadata": {
            "tags": []
          },
          "execution_count": 19
        }
      ]
    },
    {
      "cell_type": "code",
      "metadata": {
        "colab": {
          "base_uri": "https://localhost:8080/",
          "height": 599
        },
        "id": "3ZIkBciObq8g",
        "outputId": "fccd9364-ca26-41aa-97bb-b6373ee9b827"
      },
      "source": [
        "import matplotlib.pyplot as plot\n",
        "highest_corr.plot.bar( rot=90,alpha = 0.6, title=\"Five highest correlated pairs of stocks\");\n",
        "plot.ylim(0.95,1)\n",
        "plot.show(block=True);"
      ],
      "execution_count": 21,
      "outputs": [
        {
          "output_type": "display_data",
          "data": {
            "image/png": "[encoded data removed]",
            "text/plain": [
              "<Figure size 432x288 with 1 Axes>"
            ]
          },
          "metadata": {
            "tags": [],
            "needs_background": "light"
          }
        }
      ]
    },
    {
      "cell_type": "code",
      "metadata": {
        "colab": {
          "base_uri": "https://localhost:8080/",
          "height": 566
        },
        "id": "aMMSyfpQd5I5",
        "outputId": "9c375275-422c-497b-b133-049f6ebb0431"
      },
      "source": [
        "lowest_corr.plot.bar(rot=90, title=\"Five lowest correlated pairs of stocks\");"
      ],
      "execution_count": 22,
      "outputs": [
        {
          "output_type": "display_data",
          "data": {
            "image/png": "[encoded data removed]",
            "text/plain": [
              "<Figure size 432x288 with 1 Axes>"
            ]
          },
          "metadata": {
            "tags": [],
            "needs_background": "light"
          }
        }
      ]
    },
    {
      "cell_type": "code",
      "metadata": {
        "id": "4DgcuPS2ersc"
      },
      "source": [
        ""
      ],
      "execution_count": null,
      "outputs": []
    }
  ]
}